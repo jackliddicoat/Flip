{
 "cells": [
  {
   "cell_type": "markdown",
   "id": "1d1fba72",
   "metadata": {},
   "source": [
    "# Steps to Solve a Board"
   ]
  },
  {
   "cell_type": "markdown",
   "id": "284cd7d2",
   "metadata": {},
   "source": [
    "This makes the size of the matrix we want to solve."
   ]
  },
  {
   "cell_type": "code",
   "execution_count": 49,
   "id": "dc782b10",
   "metadata": {},
   "outputs": [],
   "source": [
    "def matrix_maker(row, col):\n",
    "    F = GF(2)\n",
    "    n = 1\n",
    "    m = matrix(row, col)\n",
    "    for i in srange(row):\n",
    "        for j in srange(col):\n",
    "            m[i, j] = n\n",
    "            n = n + 1\n",
    "    m2 = matrix(F, row*col, row*col)\n",
    "    for i in srange(row*col):\n",
    "        for j in srange(row*col):\n",
    "            m2[i, j] = F(0)\n",
    "    for i in srange(row):\n",
    "        for j in srange(col):\n",
    "            m2[m[i, j]-1, m[i, j]-1] = F(1)\n",
    "            if i > 0:\n",
    "                m2[m[i, j]-1, m[i-1, j]-1] = F(1)\n",
    "            if j > 0:\n",
    "                m2[m[i, j]-1, m[i, j-1]-1] = F(1)\n",
    "            if i < row - 1:\n",
    "                m2[m[i, j]-1, m[i+1, j]-1] = F(1)\n",
    "            if j < col - 1:\n",
    "                m2[m[i, j]-1, m[i, j+1]-1] = F(1)\n",
    "    return m2"
   ]
  },
  {
   "cell_type": "markdown",
   "id": "c937ffa7",
   "metadata": {},
   "source": [
    "Call the matrix $m$"
   ]
  },
  {
   "cell_type": "code",
   "execution_count": 50,
   "id": "83740eb8",
   "metadata": {},
   "outputs": [],
   "source": [
    "row = 2\n",
    "col = 2\n",
    "m = matrix_maker(2, 2)"
   ]
  },
  {
   "cell_type": "markdown",
   "id": "a07b2020",
   "metadata": {},
   "source": [
    "Define F = GF(2) to make all things wrapped in F() either 1 or 0. Make the vector corresponding to the board that we want to solve."
   ]
  },
  {
   "cell_type": "code",
   "execution_count": 51,
   "id": "0a8a1063",
   "metadata": {},
   "outputs": [],
   "source": [
    "F = GF(2)\n",
    "v = vector((F(1),F(0),F(1),F(0)))"
   ]
  },
  {
   "cell_type": "markdown",
   "id": "8b1a997d",
   "metadata": {},
   "source": [
    "Augement the vector $\\vec{v}$ to the matrix and row reduce it"
   ]
  },
  {
   "cell_type": "code",
   "execution_count": 52,
   "id": "265cc88e",
   "metadata": {
    "scrolled": false
   },
   "outputs": [
    {
     "data": {
      "text/plain": [
       "[1 0 0 0 0]\n",
       "[0 1 0 0 1]\n",
       "[0 0 1 0 0]\n",
       "[0 0 0 1 1]"
      ]
     },
     "execution_count": 52,
     "metadata": {},
     "output_type": "execute_result"
    }
   ],
   "source": [
    "rref_m = m.augment(v).rref()\n",
    "rref_m"
   ]
  },
  {
   "cell_type": "markdown",
   "id": "0abe25c0",
   "metadata": {},
   "source": [
    "This tells us what tiles to click. In a 2 x 2 matrix, tile 3 would be the tile in the 2nd row, 1st column."
   ]
  },
  {
   "cell_type": "code",
   "execution_count": 53,
   "id": "67057edc",
   "metadata": {},
   "outputs": [
    {
     "name": "stdout",
     "output_type": "stream",
     "text": [
      "Click the 1 tile\n",
      "Click the 3 tile\n"
     ]
    }
   ],
   "source": [
    "for i in srange(len(v)):\n",
    "    if rref_m[i, len(v)] == 1:\n",
    "        print(\"Click the\", i, \"tile\")\n",
    "    else:\n",
    "        continue"
   ]
  }
 ],
 "metadata": {
  "kernelspec": {
   "display_name": "SageMath 10.2",
   "language": "sage",
   "name": "sagemath"
  },
  "language_info": {
   "codemirror_mode": {
    "name": "ipython",
    "version": 3
   },
   "file_extension": ".py",
   "mimetype": "text/x-python",
   "name": "python",
   "nbconvert_exporter": "python",
   "pygments_lexer": "ipython3",
   "version": "3.11.1"
  }
 },
 "nbformat": 4,
 "nbformat_minor": 5
}
