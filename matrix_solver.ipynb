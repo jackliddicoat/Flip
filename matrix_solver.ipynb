{
 "cells": [
  {
   "cell_type": "markdown",
   "id": "7f70c9eb",
   "metadata": {},
   "source": [
    "# Matrix Solving Algorithm"
   ]
  },
  {
   "cell_type": "markdown",
   "id": "b1512953",
   "metadata": {},
   "source": [
    "### By Jack Cutler, Jack Liddicoat, and Andy Sphar"
   ]
  },
  {
   "cell_type": "markdown",
   "id": "e4b53220",
   "metadata": {},
   "source": [
    "## 1) Making an augmented matrix solving algorithm for a 2 x 3 matrix"
   ]
  },
  {
   "cell_type": "markdown",
   "id": "d85c750a",
   "metadata": {},
   "source": [
    "This makes the field of the numbers. We want it to equal to because we want our numbers to be binary (0 or 1). Notice we wrap each number in the field F."
   ]
  },
  {
   "cell_type": "code",
   "execution_count": 3,
   "id": "268aa66e",
   "metadata": {},
   "outputs": [],
   "source": [
    "F = GF(2)\n",
    "m = matrix([[F(1),F(1),F(0),F(1),F(0),F(0)],[F(1),F(1),F(1),F(0),F(1),F(0)],[F(0),F(1),F(1),F(0),F(0),F(1)], [F(1),F(0),F(0),F(1),F(1),F(0)], [F(0),F(1),F(0),F(1),F(1),F(1)], [F(0),F(0),F(1),F(0),F(1),F(1)]])"
   ]
  },
  {
   "cell_type": "markdown",
   "id": "417f8fb4",
   "metadata": {},
   "source": [
    "This is the vector that we would like to augment to our matrix"
   ]
  },
  {
   "cell_type": "code",
   "execution_count": 4,
   "id": "2dad02b4",
   "metadata": {},
   "outputs": [],
   "source": [
    "v = vector((F(1),F(1),F(1),F(1),F(1),F(1)))"
   ]
  },
  {
   "cell_type": "markdown",
   "id": "72573c2b",
   "metadata": {},
   "source": [
    "This command augments such vector."
   ]
  },
  {
   "cell_type": "code",
   "execution_count": 5,
   "id": "9f350c2d",
   "metadata": {
    "scrolled": true
   },
   "outputs": [
    {
     "data": {
      "text/plain": [
       "[1 1 0 1 0 0 1]\n",
       "[1 1 1 0 1 0 1]\n",
       "[0 1 1 0 0 1 1]\n",
       "[1 0 0 1 1 0 1]\n",
       "[0 1 0 1 1 1 1]\n",
       "[0 0 1 0 1 1 1]"
      ]
     },
     "execution_count": 5,
     "metadata": {},
     "output_type": "execute_result"
    }
   ],
   "source": [
    "m2 = m.augment(v)\n",
    "m2"
   ]
  },
  {
   "cell_type": "markdown",
   "id": "08695d4a",
   "metadata": {},
   "source": [
    "This row reduces the matrix"
   ]
  },
  {
   "cell_type": "code",
   "execution_count": 6,
   "id": "8ca917ed",
   "metadata": {},
   "outputs": [
    {
     "data": {
      "text/plain": [
       "[1 0 0 0 1 1 0]\n",
       "[0 1 0 0 1 0 0]\n",
       "[0 0 1 0 1 1 1]\n",
       "[0 0 0 1 0 1 1]\n",
       "[0 0 0 0 0 0 0]\n",
       "[0 0 0 0 0 0 0]"
      ]
     },
     "execution_count": 6,
     "metadata": {},
     "output_type": "execute_result"
    }
   ],
   "source": [
    "m2.rref()"
   ]
  },
  {
   "cell_type": "markdown",
   "id": "ac1ede1e",
   "metadata": {},
   "source": [
    "Notice that if the value in the 5th row of the 7th column is 0, then our matrix is solvable"
   ]
  },
  {
   "cell_type": "code",
   "execution_count": 74,
   "id": "251f6cd0",
   "metadata": {},
   "outputs": [
    {
     "data": {
      "text/plain": [
       "0"
      ]
     },
     "execution_count": 74,
     "metadata": {},
     "output_type": "execute_result"
    }
   ],
   "source": [
    "m2[4,6]"
   ]
  },
  {
   "cell_type": "markdown",
   "id": "806eddaa",
   "metadata": {},
   "source": [
    "There are $2^6 = 64$ possible boards to solve with a 2 x 3 matrix, so we loop through 64 times. For each $i$, we perform integer division to make a unique vector each time it loops. We then augment the column as we did above and check the above condition. If true, then we add 1 to a counter variable, otherwise the program loops again. In this case, 25% of boards are solvable."
   ]
  },
  {
   "cell_type": "code",
   "execution_count": 11,
   "id": "15581639",
   "metadata": {
    "scrolled": false
   },
   "outputs": [
    {
     "name": "stdout",
     "output_type": "stream",
     "text": [
      "The proportion of boards that are solvable is 1/4\n"
     ]
    }
   ],
   "source": [
    "counter = 0\n",
    "for i in srange(64):\n",
    "    v = vector((F(i%2),F((i//2)%2),F((i//4)%2),F((i//8)%2),F((i//16)%2),F((i//32)%2)))\n",
    "    m2 = m.augment(v)\n",
    "    m3 = m2.rref()\n",
    "    if m3[4, 6] == 0:\n",
    "        counter = counter + 1\n",
    "    else:\n",
    "        continue\n",
    "print(\"The proportion of boards that are solvable is\", counter / 64)"
   ]
  },
  {
   "cell_type": "markdown",
   "id": "4661a28b",
   "metadata": {},
   "source": [
    "Notice that this process gets more tedious as the boards get larger"
   ]
  },
  {
   "cell_type": "code",
   "execution_count": 14,
   "id": "dd563188",
   "metadata": {},
   "outputs": [],
   "source": [
    "F = GF(2)\n",
    "m = matrix([[F(1), F(1), F(0), F(1), F(0), F(0), F(0), F(0), F(0), F(0), F(0), F(0)], [F(1), F(1), F(1), F(0), F(1), F(0), F(0), F(0), F(0), F(0), F(0), F(0)], [F(0), F(1), F(1), F(0), F(0), F(1), F(0), F(0), F(0), F(0), F(0), F(0)], [F(1), F(0), F(0), F(1), F(1), F(0), F(1), F(0), F(0), F(0), F(0), F(0)], [F(0), F(1), F(0), F(1), F(1), F(1), F(0), F(1), F(0), F(0), F(0), F(0)], [F(0), F(0), F(1), F(0), F(1), F(1), F(0), F(0), F(1), F(0), F(0), F(0)], [F(0), F(0), F(0), F(1), F(0), F(0), F(1), F(1), F(0), F(1), F(0), F(0)], [F(0), F(0), F(0), F(0), F(1), F(0), F(1), F(1), F(1), F(0), F(1), F(0)], [F(0), F(0), F(0), F(0), F(0), F(1), F(0), F(1), F(1), F(0), F(0), F(1)], [F(0), F(0), F(0), F(0), F(0), F(0), F(1), F(0), F(0), F(1), F(1), F(0)], [F(0), F(0), F(0), F(0), F(0), F(0), F(0), F(1), F(0), F(1), F(1), F(1)], [F(0), F(0), F(0), F(0), F(0), F(0), F(0), F(0), F(1), F(0), F(1), F(1)]])"
   ]
  },
  {
   "cell_type": "code",
   "execution_count": 15,
   "id": "e5688b47",
   "metadata": {},
   "outputs": [
    {
     "data": {
      "text/plain": [
       "[1 0 0 0 0 0 0 0 0 0 0 0]\n",
       "[0 1 0 0 0 0 0 0 0 0 0 0]\n",
       "[0 0 1 0 0 0 0 0 0 0 0 0]\n",
       "[0 0 0 1 0 0 0 0 0 0 0 0]\n",
       "[0 0 0 0 1 0 0 0 0 0 0 0]\n",
       "[0 0 0 0 0 1 0 0 0 0 0 0]\n",
       "[0 0 0 0 0 0 1 0 0 0 0 0]\n",
       "[0 0 0 0 0 0 0 1 0 0 0 0]\n",
       "[0 0 0 0 0 0 0 0 1 0 0 0]\n",
       "[0 0 0 0 0 0 0 0 0 1 0 0]\n",
       "[0 0 0 0 0 0 0 0 0 0 1 0]\n",
       "[0 0 0 0 0 0 0 0 0 0 0 1]"
      ]
     },
     "execution_count": 15,
     "metadata": {},
     "output_type": "execute_result"
    }
   ],
   "source": [
    "m.rref()"
   ]
  },
  {
   "cell_type": "code",
   "execution_count": 16,
   "id": "033fae4c",
   "metadata": {
    "scrolled": true
   },
   "outputs": [
    {
     "name": "stdout",
     "output_type": "stream",
     "text": [
      "The proportion of boards that are solvable is 1\n"
     ]
    }
   ],
   "source": [
    "counter = 0\n",
    "for i in srange(4096):\n",
    "    v = vector((F(i%2),F((i//2)%2),F((i//4)%2),F((i//8)%2), F((i//16)%2), F((i//32)%2), F((i//64)%2), F((i//128)%2), F((i//256)%2), F((i//512)%2), F((i//1024)%2), F((i//2048)%2)))\n",
    "    m2 = m.augment(v)\n",
    "    m3 = m2.rref()\n",
    "    if m3[4, 6] == 0:\n",
    "        counter = counter + 1\n",
    "        # print(v)\n",
    "    else:\n",
    "        continue\n",
    "print(\"The proportion of boards that are solvable is\", counter / 4096)"
   ]
  },
  {
   "cell_type": "markdown",
   "id": "669bb5ce",
   "metadata": {},
   "source": [
    "## 2) A More Generalizable Algorithm"
   ]
  },
  {
   "cell_type": "markdown",
   "id": "e0964909",
   "metadata": {},
   "source": [
    "This is where our function, matrix_maker(), comes in. We give it a row and a column for a given matrix and it spits out the non-augmented portion of a $n$ x $m$ matrix, which we then can easily append any vector of size $n$ x 1 to."
   ]
  },
  {
   "cell_type": "code",
   "execution_count": 4,
   "id": "1fba49cd",
   "metadata": {},
   "outputs": [],
   "source": [
    "def matrix_maker(row, col):\n",
    "    F = GF(2)\n",
    "    n = 1\n",
    "    m = matrix(row, col)\n",
    "    for i in srange(row):\n",
    "        for j in srange(col):\n",
    "            m[i, j] = n\n",
    "            n = n + 1\n",
    "    m2 = matrix(F, row*col, row*col)\n",
    "    for i in srange(row*col):\n",
    "        for j in srange(row*col):\n",
    "            m2[i, j] = F(0)\n",
    "    for i in srange(row):\n",
    "        for j in srange(col):\n",
    "            m2[m[i, j]-1, m[i, j]-1] = F(1)\n",
    "            if i > 0:\n",
    "                m2[m[i, j]-1, m[i-1, j]-1] = F(1)\n",
    "            if j > 0:\n",
    "                m2[m[i, j]-1, m[i, j-1]-1] = F(1)\n",
    "            if i < row - 1:\n",
    "                m2[m[i, j]-1, m[i+1, j]-1] = F(1)\n",
    "            if j < col - 1:\n",
    "                m2[m[i, j]-1, m[i, j+1]-1] = F(1)\n",
    "    return m2"
   ]
  },
  {
   "cell_type": "markdown",
   "id": "ddbd187e",
   "metadata": {},
   "source": [
    "We can now just type in the rows and cols of a board and this algorithm either gives us a vector, which means the matrix is consistent, or throws an error,if it is not."
   ]
  },
  {
   "cell_type": "code",
   "execution_count": 7,
   "id": "5d400963",
   "metadata": {},
   "outputs": [
    {
     "name": "stdout",
     "output_type": "stream",
     "text": [
      "16 out of 16 matrices are solvable\n",
      "The proportion of cases that are solvable is 1\n"
     ]
    }
   ],
   "source": [
    "F = GF(2)\n",
    "counter = 0\n",
    "row = \n",
    "col = 2\n",
    "for i in srange(2^(row*col)):\n",
    "    u = list()\n",
    "    for j in srange(row*col):\n",
    "        u.append(F((i//2^j)%2))\n",
    "    v = vector(u)\n",
    "    m2 = matrix_maker(row, col)\n",
    "    try:\n",
    "        if len(m2.solve_right(v)) > 0:\n",
    "            counter = counter + 1\n",
    "    except ValueError:\n",
    "        continue\n",
    "print(counter, \"out of\", 2^(row * col), \"matrices are solvable\")\n",
    "print(\"The proportion of cases that are solvable is\", counter/2^(row * col))"
   ]
  }
 ],
 "metadata": {
  "kernelspec": {
   "display_name": "SageMath 10.2",
   "language": "sage",
   "name": "sagemath"
  },
  "language_info": {
   "codemirror_mode": {
    "name": "ipython",
    "version": 3
   },
   "file_extension": ".py",
   "mimetype": "text/x-python",
   "name": "python",
   "nbconvert_exporter": "python",
   "pygments_lexer": "ipython3",
   "version": "3.11.1"
  }
 },
 "nbformat": 4,
 "nbformat_minor": 5
}
